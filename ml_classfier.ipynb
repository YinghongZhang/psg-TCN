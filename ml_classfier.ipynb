{
 "cells": [
  {
   "cell_type": "markdown",
   "metadata": {},
   "source": [
    "### Data process"
   ]
  },
  {
   "cell_type": "code",
   "execution_count": 1,
   "metadata": {},
   "outputs": [
    {
     "name": "stderr",
     "output_type": "stream",
     "text": [
      "C:\\Users\\10426\\Anaconda3\\envs\\pytorch\\lib\\site-packages\\sklearn\\cross_validation.py:41: DeprecationWarning: This module was deprecated in version 0.18 in favor of the model_selection module into which all the refactored classes and functions are moved. Also note that the interface of the new CV iterators are different from that of this module. This module will be removed in 0.20.\n",
      "  \"This module will be removed in 0.20.\", DeprecationWarning)\n"
     ]
    }
   ],
   "source": [
    "import torch as t\n",
    "import numpy as np\n",
    "from PIL import Image\n",
    "from sklearn import svm\n",
    "from sklearn.cross_validation import train_test_split\n",
    "from sklearn.feature_extraction import DictVectorizer\n",
    "from sklearn.ensemble import RandomForestClassifier\n",
    "from sklearn.model_selection import GridSearchCV\n",
    "from sklearn import metrics\n",
    "import lightgbm as lgb\n",
    "import matplotlib.pyplot as plot\n",
    "from data.ml_dataset import BODataSet\n",
    "import time\n",
    "import os\n",
    "import torch.nn as nn\n",
    "import random"
   ]
  },
  {
   "cell_type": "code",
   "execution_count": 2,
   "metadata": {},
   "outputs": [
    {
     "data": {
      "text/plain": [
       "array([  9.90000000e+01,   9.60000000e+01,   9.71000000e+01,\n",
       "         1.02333333e+00,   1.01159939e+00,   9.70000000e+01,\n",
       "         1.04181194e-02,   1.01956746e+00,   9.88671473e-01,\n",
       "         9.11666053e-02,  -1.56306058e+00,  -5.00000000e-02,\n",
       "         4.83050847e-02,  -1.00000000e+00,  -4.23613061e+00,\n",
       "         1.64937753e+01,   1.00000000e+00,   0.00000000e+00,\n",
       "         3.00000000e+00,   9.71000000e+01,   1.04067797e+00,\n",
       "         9.90000000e+01,   9.60000000e+01,   9.11666053e-02,\n",
       "        -1.56306058e+00])"
      ]
     },
     "execution_count": 2,
     "metadata": {},
     "output_type": "execute_result"
    }
   ],
   "source": [
    "# get dataset\n",
    "dataset = BODataSet(root=\"./data/train\")\n",
    "class_labels = ('normal', 'hypopnea', 'apnea')\n",
    "X, Y = dataset.get_data()\n",
    "train_X, test_X, train_Y, test_Y = train_test_split(X, Y, test_size=0.3, random_state=33)\n",
    "len(train_X), len(test_X)\n",
    "train_X[0]"
   ]
  },
  {
   "cell_type": "code",
   "execution_count": 3,
   "metadata": {},
   "outputs": [
    {
     "name": "stdout",
     "output_type": "stream",
     "text": [
      "[72, 9, 5] 72\n",
      "[72, 72, 74]\n"
     ]
    },
    {
     "data": {
      "text/plain": [
       "218"
      ]
     },
     "execution_count": 3,
     "metadata": {},
     "output_type": "execute_result"
    }
   ],
   "source": [
    "# data enhance\n",
    "def upsampling(frags, labels):\n",
    "        class_count = [0, 0, 0]\n",
    "        for label in labels:\n",
    "            class_count[label] += 1\n",
    "        class_max = max(class_count)\n",
    "        print(class_count, class_max)\n",
    "\n",
    "        for i in range(len(frags)):\n",
    "            duplicate = class_max / class_count[labels[i]] - 1\n",
    "            duplicate_integer = int(duplicate)\n",
    "            duplicate_decimal = duplicate - int(duplicate)\n",
    "            # print(self.frags[i][1], duplicate_integer, duplicate_decimal)\n",
    "\n",
    "            frags.extend([frags[i] for x in range(duplicate_integer)])\n",
    "            labels.extend([labels[i] for x in range(duplicate_integer)])\n",
    "            if random.uniform(0, 1) < duplicate_decimal:\n",
    "                frags.append(frags[i])\n",
    "                labels.append(labels[i])\n",
    "\n",
    "        class_count = [0, 0, 0]\n",
    "        for label in labels:\n",
    "            class_count[label] += 1\n",
    "        print(class_count)\n",
    "        return frags\n",
    "\n",
    "upsampling(train_X, train_Y)\n",
    "#upsampling(test_X, test_Y)\n",
    "len(train_X)"
   ]
  },
  {
   "cell_type": "markdown",
   "metadata": {},
   "source": [
    "### 数据预处理\n",
    "归一化，二值化等操作"
   ]
  },
  {
   "cell_type": "code",
   "execution_count": 4,
   "metadata": {},
   "outputs": [
    {
     "data": {
      "text/plain": [
       "(25,)"
      ]
     },
     "execution_count": 4,
     "metadata": {},
     "output_type": "execute_result"
    }
   ],
   "source": [
    "from sklearn import preprocessing\n",
    "\n",
    "min_max_scale = preprocessing.MinMaxScaler()\n",
    "X_scale = min_max_scale.fit_transform(X)\n",
    "test_X_scale = min_max_scale.fit_transform(test_X)\n",
    "\n",
    "X_normalize = preprocessing.normalize(X)\n",
    "test_X_normalize = preprocessing.normalize(test_X)\n",
    "train_X[0].shape"
   ]
  },
  {
   "cell_type": "code",
   "execution_count": 5,
   "metadata": {},
   "outputs": [],
   "source": [
    "# test code\n",
    "def test(clf, X, Y):\n",
    "    class_labels = ('normal', 'hypopnea', 'apnea')\n",
    "    class_total = [0, 0, 0]\n",
    "    class_correct = [0, 0, 0]\n",
    "    pre_Y = clf.predict(X)\n",
    "    prediction = (pre_Y == Y)\n",
    "    for index in range(len(Y)):\n",
    "        label = Y[index]\n",
    "        class_total[label] += 1\n",
    "        class_correct[label] += prediction[index]\n",
    "    \n",
    "    accs = []\n",
    "    accs.append(\"Total %d events accuracy: %.1f %%\"%(sum(class_total), sum(class_correct) / sum(class_total) *100))\n",
    "    accs.append(\"Total %d abnormal accuracy: %.1f %%\" %(class_total[1]+class_total[2], (class_correct[1]+class_correct[2])/(class_total[1]+class_total[2]) *100))\n",
    "    accs.extend([\"%s %d events accuracy: %.1f %%\" %(class_labels[i], class_total[i], class_correct[i] / class_total[i] *100 if class_total[i] != 0 else -1) for i in range(3)])\n",
    "    print('\\n'.join(accs), \"\\n\")\n",
    "    \n",
    "    \n",
    "    print(\"Precision_score: %.1f \" % (metrics.precision_score(Y, pre_Y, average='weighted')*100))\n",
    "    print(\"recall_score: %.1f \" % (metrics.recall_score(Y, pre_Y, average='weighted')*100))\n",
    "    print(\"f1_score: %.1f \" % (metrics.f1_score(Y, pre_Y, average='weighted')*100))\n",
    "    return pre_Y\n",
    "\n",
    "# calculate accuracy\n",
    "def calc_accuracy(Y, pre_Y):\n",
    "    class_labels = ('normal', 'hypopnea', 'apnea')\n",
    "    class_total = [0, 0, 0]\n",
    "    class_correct = [0, 0, 0]\n",
    "    prediction = (pre_Y == Y)\n",
    "    #print(prediction)\n",
    "    for index in range(len(Y)):\n",
    "        label = Y[index]\n",
    "        class_total[label] += 1\n",
    "        class_correct[label] += prediction[index]\n",
    "    \n",
    "    accs = []\n",
    "    accs.append(\"Total %d events accuracy: %.1f %%\"%(sum(class_total), sum(class_correct) / sum(class_total) *100))\n",
    "    accs.append(\"Total %d abnormal accuracy: %.1f %%\" %(class_total[1]+class_total[2], (class_correct[1]+class_correct[2])/(class_total[1]+class_total[2]) *100))\n",
    "    accs.extend([\"%s %d events accuracy: %.1f %%\" %(class_labels[i], class_total[i], class_correct[i] / class_total[i] *100 if class_total[i] != 0 else -1) for i in range(3)])\n",
    "    \n",
    "    print('\\n'.join(accs), \"\\n\")\n",
    "    \n",
    "    print(\"Precision_score: %.1f \" % (metrics.precision_score(Y, pre_Y, average='weighted')*100))\n",
    "    print(\"recall_score: %.1f \" % (metrics.recall_score(Y, pre_Y, average='weighted')*100))\n",
    "    print(\"f1_score: %.1f \" % (metrics.f1_score(Y, pre_Y, average='weighted')*100))\n",
    "    "
   ]
  },
  {
   "cell_type": "markdown",
   "metadata": {},
   "source": [
    "### SVM"
   ]
  },
  {
   "cell_type": "code",
   "execution_count": 6,
   "metadata": {},
   "outputs": [
    {
     "name": "stderr",
     "output_type": "stream",
     "text": [
      "C:\\Users\\10426\\Anaconda3\\envs\\pytorch\\lib\\site-packages\\sklearn\\model_selection\\_split.py:2053: FutureWarning: You should specify a value for 'cv' instead of relying on the default value. The default value will change from 3 to 5 in version 0.22.\n",
      "  warnings.warn(CV_WARNING, FutureWarning)\n"
     ]
    },
    {
     "name": "stdout",
     "output_type": "stream",
     "text": [
      "Fitting 3 folds for each of 35 candidates, totalling 105 fits\n"
     ]
    },
    {
     "name": "stderr",
     "output_type": "stream",
     "text": [
      "[Parallel(n_jobs=8)]: Using backend LokyBackend with 8 concurrent workers.\n",
      "[Parallel(n_jobs=8)]: Done  25 tasks      | elapsed:    4.5s\n",
      "[Parallel(n_jobs=8)]: Done 105 out of 105 | elapsed:    6.1s finished\n",
      "C:\\Users\\10426\\Anaconda3\\envs\\pytorch\\lib\\site-packages\\sklearn\\model_selection\\_search.py:841: DeprecationWarning: The default of the `iid` parameter will change from True to False in version 0.22 and will be removed in 0.24. This will change numeric results when test-set sizes are unequal.\n",
      "  DeprecationWarning)\n"
     ]
    },
    {
     "name": "stdout",
     "output_type": "stream",
     "text": [
      "Total 38 events accuracy: 76.3 %\n",
      "Total 9 abnormal accuracy: 55.6 %\n",
      "normal 29 events accuracy: 82.8 %\n",
      "hypopnea 6 events accuracy: 66.7 %\n",
      "apnea 3 events accuracy: 33.3 % \n",
      "\n",
      "Precision_score: 80.3 \n",
      "recall_score: 76.3 \n",
      "f1_score: 77.9 \n",
      "10 0.001\n"
     ]
    }
   ],
   "source": [
    "\n",
    "svm_clf = svm.SVC()\n",
    "param_grid = {'C': [1e-3, 1e-2, 1e-1, 1, 10, 100, 1000], 'gamma':[0.0001, 0.001, 0.01, 0.1, 0.3],}\n",
    "\n",
    "svm_clf_cv = GridSearchCV(svm.SVC(decision_function_shape='ovo', kernel='rbf'),param_grid, n_jobs=8, verbose=2, scoring='f1_macro')\n",
    "svm_clf_cv.fit(X,Y)\n",
    "\n",
    "svm_clf = svm.SVC(decision_function_shape='ovo', C=svm_clf_cv.best_params_['C'], gamma=svm_clf_cv.best_params_['gamma'])\n",
    "svm_clf.fit(train_X, train_Y)\n",
    "\n",
    "test(svm_clf, test_X, test_Y)\n",
    "\n",
    "\n",
    "print(svm_clf_cv.best_params_['C'], svm_clf_cv.best_params_['gamma'])"
   ]
  },
  {
   "cell_type": "code",
   "execution_count": 7,
   "metadata": {},
   "outputs": [],
   "source": [
    "import pylab as pl"
   ]
  },
  {
   "cell_type": "code",
   "execution_count": 8,
   "metadata": {},
   "outputs": [
    {
     "name": "stdout",
     "output_type": "stream",
     "text": [
      "Total 38 events accuracy: 76.3 %\n",
      "Total 9 abnormal accuracy: 55.6 %\n",
      "normal 29 events accuracy: 82.8 %\n",
      "hypopnea 6 events accuracy: 66.7 %\n",
      "apnea 3 events accuracy: 33.3 % \n",
      "\n",
      "Precision_score: 80.3 \n",
      "recall_score: 76.3 \n",
      "f1_score: 77.9 \n"
     ]
    },
    {
     "data": {
      "text/plain": [
       "125"
      ]
     },
     "execution_count": 8,
     "metadata": {},
     "output_type": "execute_result"
    }
   ],
   "source": [
    "svm_clf.fit(train_X,train_Y)\n",
    "test(svm_clf, test_X, test_Y)\n",
    "len(svm_clf.support_vectors_)"
   ]
  },
  {
   "cell_type": "code",
   "execution_count": 9,
   "metadata": {},
   "outputs": [
    {
     "data": {
      "image/png": "[encoded data removed]",
      "text/plain": [
       "<Figure size 432x288 with 1 Axes>"
      ]
     },
     "metadata": {},
     "output_type": "display_data"
    }
   ],
   "source": [
    "# confusion matrix \n",
    "# https://jakevdp.github.io/PythonDataScienceHandbook/05.07-support-vector-machines.html\n",
    "\n",
    "import matplotlib.pyplot as plt\n",
    "from scipy import stats\n",
    "\n",
    "# use seaborn plotting defaults\n",
    "import seaborn as sns; sns.set()\n",
    "\n",
    "from sklearn.metrics import confusion_matrix\n",
    "\n",
    "pre = svm_clf.predict(test_X)\n",
    "mat = confusion_matrix(test_Y, pre)\n",
    "sns.heatmap(mat.T, square=True, annot=True, fmt='d', cbar=False,\n",
    "            xticklabels=class_labels,\n",
    "            yticklabels=class_labels)\n",
    "# plt.figure()\n",
    "plt.xlabel('true label')\n",
    "plt.ylabel('predicted label');\n",
    "plt.rcParams['figure.dpi'] = 100 #分辨率\n",
    "plt.savefig(\"./cm_svm\")\n",
    "# plt.rcParams.update({'font.size': 40})\n",
    "# plt.show()"
   ]
  },
  {
   "cell_type": "markdown",
   "metadata": {},
   "source": [
    "### RandomForest"
   ]
  },
  {
   "cell_type": "code",
   "execution_count": 10,
   "metadata": {},
   "outputs": [
    {
     "name": "stdout",
     "output_type": "stream",
     "text": [
      "Total 38 events accuracy: 84.2 %\n",
      "Total 9 abnormal accuracy: 44.4 %\n",
      "normal 29 events accuracy: 96.6 %\n",
      "hypopnea 6 events accuracy: 50.0 %\n",
      "apnea 3 events accuracy: 33.3 % \n",
      "\n",
      "Precision_score: 84.7 \n",
      "recall_score: 84.2 \n",
      "f1_score: 83.1 \n"
     ]
    },
    {
     "data": {
      "text/plain": [
       "array([ 0.01218614,  0.        ,  0.01772559,  0.04060984,  0.10293178,\n",
       "        0.00507227,  0.11767906,  0.02592354,  0.0487541 ,  0.09892438,\n",
       "        0.02726272,  0.        ,  0.00115307,  0.        ,  0.01292264,\n",
       "        0.05631949,  0.00206557,  0.00222067,  0.        ,  0.00589913,\n",
       "        0.06581118,  0.        ,  0.        ,  0.31595367,  0.04058515])"
      ]
     },
     "execution_count": 10,
     "metadata": {},
     "output_type": "execute_result"
    }
   ],
   "source": [
    "#print(clf.best_estimator_.get_params())\n",
    "best_rf_model = RandomForestClassifier(max_depth=20, max_features=0.7, criterion='gini', max_leaf_nodes=500, min_samples_leaf=1, min_samples_split=2, n_estimators=10)\n",
    "best_rf_model.fit(train_X, train_Y)\n",
    "test(best_rf_model, test_X, test_Y)\n",
    "best_rf_model.feature_importances_"
   ]
  },
  {
   "cell_type": "markdown",
   "metadata": {},
   "source": [
    "### Xgboost"
   ]
  },
  {
   "cell_type": "code",
   "execution_count": 11,
   "metadata": {},
   "outputs": [
    {
     "name": "stdout",
     "output_type": "stream",
     "text": [
      "Total 38 events accuracy: 86.8 %\n",
      "Total 9 abnormal accuracy: 44.4 %\n",
      "normal 29 events accuracy: 100.0 %\n",
      "hypopnea 6 events accuracy: 50.0 %\n",
      "apnea 3 events accuracy: 33.3 % \n",
      "\n",
      "Precision_score: 86.5 \n",
      "recall_score: 86.8 \n",
      "f1_score: 85.1 \n"
     ]
    },
    {
     "data": {
      "text/plain": [
       "array([ 0.,  0.,  0.,  0.,  1.,  0.,  0.,  0.,  0.,  0.,  0.,  2.,  0.,\n",
       "        1.,  0.,  1.,  0.,  0.,  0.,  0.,  0.,  1.,  0.,  0.,  1.,  0.,\n",
       "        0.,  0.,  0.,  0.,  0.,  0.,  0.,  0.,  0.,  0.,  0.,  0.], dtype=float32)"
      ]
     },
     "execution_count": 11,
     "metadata": {},
     "output_type": "execute_result"
    }
   ],
   "source": [
    "import xgboost as xgb\n",
    "from xgboost import XGBClassifier\n",
    "\n",
    "params = {\n",
    "    'booster': 'gbtree',\n",
    "    'objective': 'multi:softmax',  # 多分类的问题\n",
    "    'num_class': 3,               # 类别数，与 multisoftmax 并用\n",
    "    'gamma': 0.1,                  # 用于控制是否后剪枝的参数,越大越保守，一般0.1、0.2这样子。\n",
    "    'max_depth': 12,               # 构建树的深度，越大越容易过拟合\n",
    "    'lambda': 2,                   # 控制模型复杂度的权重值的L2正则化项参数，参数越大，模型越不容易过拟合。\n",
    "    'subsample': 0.7,              # 随机采样训练样本\n",
    "    'colsample_bytree': 0.7,       # 生成树时进行的列采样\n",
    "    'min_child_weight': 3,\n",
    "    'silent': 1,                   # 设置成1则没有运行信息输出，最好是设置为0.\n",
    "    'eta': 0.1,                  # 如同学习率\n",
    "    'seed': 1000,\n",
    "    'nthread': 4,                  # cpu 线程数\n",
    "}\n",
    "plst = params.items()\n",
    "\n",
    "dtrain = xgb.DMatrix(train_X, train_Y)\n",
    "d_test_X = xgb.DMatrix(test_X)\n",
    "model = xgb.train(plst, dtrain, 100)\n",
    "\n",
    "test(model, d_test_X, test_Y)"
   ]
  },
  {
   "cell_type": "code",
   "execution_count": 12,
   "metadata": {},
   "outputs": [
    {
     "name": "stdout",
     "output_type": "stream",
     "text": [
      "Total 38 events accuracy: 86.8 %\n",
      "Total 9 abnormal accuracy: 44.4 %\n",
      "normal 29 events accuracy: 100.0 %\n",
      "hypopnea 6 events accuracy: 50.0 %\n",
      "apnea 3 events accuracy: 33.3 % \n",
      "\n",
      "Precision_score: 86.5 \n",
      "recall_score: 86.8 \n",
      "f1_score: 85.1 \n"
     ]
    },
    {
     "data": {
      "text/plain": [
       "array([0, 0, 0, 0, 1, 0, 0, 0, 0, 0, 0, 2, 0, 1, 0, 1, 0, 0, 0, 0, 0, 1, 0,\n",
       "       0, 1, 0, 0, 0, 0, 0, 0, 0, 0, 0, 0, 0, 0, 0])"
      ]
     },
     "execution_count": 12,
     "metadata": {},
     "output_type": "execute_result"
    }
   ],
   "source": [
    "xgb_clf = XGBClassifier(learning_rate=0.1)\n",
    "xgb_clf.fit(np.array(train_X), train_Y)\n",
    "\n",
    "test(xgb_clf, np.array(test_X), test_Y)"
   ]
  },
  {
   "cell_type": "markdown",
   "metadata": {},
   "source": [
    "### LGB"
   ]
  },
  {
   "cell_type": "code",
   "execution_count": 13,
   "metadata": {},
   "outputs": [
    {
     "name": "stderr",
     "output_type": "stream",
     "text": [
      "C:\\Users\\10426\\Anaconda3\\envs\\pytorch\\lib\\site-packages\\lightgbm\\engine.py:113: UserWarning: Found `n_estimators` in params. Will use it instead of argument\n",
      "  warnings.warn(\"Found `{}` in params. Will use it instead of argument\".format(alias))\n"
     ]
    },
    {
     "name": "stdout",
     "output_type": "stream",
     "text": [
      "[1]\tvalid_0's multi_logloss: 1.01143\n",
      "[2]\tvalid_0's multi_logloss: 0.939509\n",
      "[3]\tvalid_0's multi_logloss: 0.880915\n",
      "[4]\tvalid_0's multi_logloss: 0.829043\n",
      "[5]\tvalid_0's multi_logloss: 0.785832\n",
      "[6]\tvalid_0's multi_logloss: 0.747312\n",
      "[7]\tvalid_0's multi_logloss: 0.715385\n",
      "[8]\tvalid_0's multi_logloss: 0.688172\n",
      "[9]\tvalid_0's multi_logloss: 0.662761\n",
      "[10]\tvalid_0's multi_logloss: 0.641067\n",
      "[11]\tvalid_0's multi_logloss: 0.623521\n",
      "[12]\tvalid_0's multi_logloss: 0.606435\n",
      "[13]\tvalid_0's multi_logloss: 0.589468\n",
      "[14]\tvalid_0's multi_logloss: 0.574224\n",
      "[15]\tvalid_0's multi_logloss: 0.559287\n",
      "[16]\tvalid_0's multi_logloss: 0.547491\n",
      "[17]\tvalid_0's multi_logloss: 0.531733\n",
      "[18]\tvalid_0's multi_logloss: 0.519891\n",
      "[19]\tvalid_0's multi_logloss: 0.508109\n",
      "[20]\tvalid_0's multi_logloss: 0.497674\n",
      "[21]\tvalid_0's multi_logloss: 0.488815\n",
      "[22]\tvalid_0's multi_logloss: 0.479692\n",
      "[23]\tvalid_0's multi_logloss: 0.474293\n",
      "[24]\tvalid_0's multi_logloss: 0.467051\n",
      "[25]\tvalid_0's multi_logloss: 0.460079\n",
      "[26]\tvalid_0's multi_logloss: 0.454413\n",
      "[27]\tvalid_0's multi_logloss: 0.449085\n",
      "[28]\tvalid_0's multi_logloss: 0.443385\n",
      "[29]\tvalid_0's multi_logloss: 0.439557\n",
      "[30]\tvalid_0's multi_logloss: 0.439884\n",
      "Total 38 events accuracy: 84.2 %\n",
      "Total 9 abnormal accuracy: 44.4 %\n",
      "normal 29 events accuracy: 96.6 %\n",
      "hypopnea 6 events accuracy: 50.0 %\n",
      "apnea 3 events accuracy: 33.3 % \n",
      "\n",
      "Precision_score: 82.4 \n",
      "recall_score: 84.2 \n",
      "f1_score: 83.0 \n"
     ]
    }
   ],
   "source": [
    "# light gbn models\n",
    "train_data = lgb.Dataset(np.array(train_X), train_Y)\n",
    "test_data = lgb.Dataset(np.array(test_X), label=test_Y)\n",
    "\n",
    "params = {\n",
    "    'task': 'train',\n",
    "    'n_estimators': 30,\n",
    "    'objective': 'multiclass',\n",
    "    'max_depth': 50,\n",
    "    'num_class': 3,\n",
    "#     'metric': 'auc',\n",
    "    'learning_rate': 0.1,\n",
    "#     'verbose': 0\n",
    "}\n",
    "\n",
    "bst = lgb.train(params, train_data, valid_sets=test_data)\n",
    "\n",
    "y_pred = bst.predict(test_X)\n",
    "y_pred = np.array([list(e).index(max(e)) for e in y_pred])\n",
    "\n",
    "calc_accuracy(test_Y, y_pred)\n",
    "# bst.save_model('model.txt')\n",
    "# json_model = bst.dump_model()\n",
    "# bst = lgb.Booster(model_file='model.txt')\n"
   ]
  },
  {
   "cell_type": "markdown",
   "metadata": {},
   "source": [
    "### KNN"
   ]
  },
  {
   "cell_type": "code",
   "execution_count": 14,
   "metadata": {},
   "outputs": [
    {
     "name": "stdout",
     "output_type": "stream",
     "text": [
      "Total 38 events accuracy: 78.9 %\n",
      "Total 9 abnormal accuracy: 55.6 %\n",
      "normal 29 events accuracy: 86.2 %\n",
      "hypopnea 6 events accuracy: 50.0 %\n",
      "apnea 3 events accuracy: 66.7 % \n",
      "\n",
      "Precision_score: 79.2 \n",
      "recall_score: 78.9 \n",
      "f1_score: 78.9 \n"
     ]
    },
    {
     "data": {
      "text/plain": [
       "array([1, 0, 0, 0, 1, 0, 0, 0, 2, 0, 0, 0, 0, 0, 0, 2, 0, 0, 1, 0, 0, 2, 0,\n",
       "       0, 1, 0, 0, 0, 0, 0, 0, 0, 0, 2, 0, 0, 0, 1])"
      ]
     },
     "execution_count": 14,
     "metadata": {},
     "output_type": "execute_result"
    }
   ],
   "source": [
    "from sklearn.neighbors import KNeighborsClassifier\n",
    "knn = KNeighborsClassifier(n_neighbors=1, p=5, metric='minkowski')\n",
    "knn.fit(train_X,train_Y)\n",
    "\n",
    "test(knn, test_X, test_Y)"
   ]
  },
  {
   "cell_type": "markdown",
   "metadata": {},
   "source": [
    "### Decision Tree"
   ]
  },
  {
   "cell_type": "code",
   "execution_count": 15,
   "metadata": {},
   "outputs": [
    {
     "name": "stdout",
     "output_type": "stream",
     "text": [
      "Total 38 events accuracy: 84.2 %\n",
      "Total 9 abnormal accuracy: 33.3 %\n",
      "normal 29 events accuracy: 100.0 %\n",
      "hypopnea 6 events accuracy: 33.3 %\n",
      "apnea 3 events accuracy: 33.3 % \n",
      "\n",
      "Precision_score: 82.9 \n",
      "recall_score: 84.2 \n",
      "f1_score: 81.7 \n"
     ]
    },
    {
     "data": {
      "text/plain": [
       "array([0, 0, 0, 0, 1, 0, 0, 0, 0, 0, 0, 2, 0, 0, 0, 1, 0, 0, 0, 0, 0, 1, 0,\n",
       "       0, 1, 0, 0, 0, 0, 0, 0, 0, 0, 0, 0, 0, 0, 0])"
      ]
     },
     "execution_count": 15,
     "metadata": {},
     "output_type": "execute_result"
    }
   ],
   "source": [
    "from sklearn.tree import DecisionTreeClassifier\n",
    "\n",
    "decision_tree = DecisionTreeClassifier(criterion='entropy', max_depth=10, random_state=10)\n",
    "decision_tree.fit(train_X, train_Y)\n",
    "\n",
    "test(decision_tree, test_X, test_Y)"
   ]
  },
  {
   "cell_type": "code",
   "execution_count": 16,
   "metadata": {},
   "outputs": [
    {
     "data": {
      "text/plain": [
       "([(34, 'var'),\n",
       "  (34, 'hr_normal'),\n",
       "  (28, 'diff_kurt'),\n",
       "  (20, 'gap'),\n",
       "  (17, 'diff_var'),\n",
       "  (16, 'v_range'),\n",
       "  (11, 'max_m_avg'),\n",
       "  (5, 'mean'),\n",
       "  (4, 'zero'),\n",
       "  (2, 'diff_skew')],\n",
       " [(0.0, 'kurt'),\n",
       "  (0.0, 'hr_normal'),\n",
       "  (0.0, 'hr_low_than_60'),\n",
       "  (0.0, 'gap'),\n",
       "  (0.0, 'diff_var'),\n",
       "  (0.0, 'diff_skew'),\n",
       "  (0.0, 'diff_min_v'),\n",
       "  (0.0, 'diff_mean'),\n",
       "  (0.0, 'diff_max_v'),\n",
       "  (0.0, 'diff_kurt')],\n",
       " [(0.0051000000000000004, 'mean'),\n",
       "  (0.0022000000000000001, 'diff_mean'),\n",
       "  (0.0020999999999999999, 'hr_normal'),\n",
       "  (0.0011999999999999999, 'skew'),\n",
       "  (0.0, 'min_m_avg'),\n",
       "  (0.0, 'max_v'),\n",
       "  (0.0, 'kurt'),\n",
       "  (0.0, 'diff_var'),\n",
       "  (0.0, 'diff_skew'),\n",
       "  (0.0, 'diff_kurt')])"
      ]
     },
     "execution_count": 16,
     "metadata": {},
     "output_type": "execute_result"
    }
   ],
   "source": [
    "# features importance\n",
    "names = ['zero', 'max_v', 'min_v', 'v_range', 'gap', 'mean', 'var', 'std', 'med', 'avg_m_std', 'max_m_avg', 'min_m_avg', 'skew', 'kurt', 'hr_low_than_60', 'hr_high_than_100', 'hr_normal', 'diff_mean', 'diff_var', 'diff_max_v', 'diff_min_v', 'diff_skew', 'diff_kurt', 'diff_range', 'diffargmax', 'diffargmin', 'mean_big_0', 'var_big_0', 'max_big_0', 'min_big_0', 'skew_big_0', 'kurt_big_0', 'diff_range_big_0']\n",
    "dt_importances = sorted(zip(map(lambda x: round(x, 4), decision_tree.feature_importances_), names), reverse=True)\n",
    "rf_importances = sorted(zip(map(lambda x: round(x, 4), best_rf_model.feature_importances_), names), reverse=True)\n",
    "xgb_fscore = model.get_fscore()\n",
    "temp1 = []\n",
    "temp2 = []\n",
    "for k in xgb_fscore:\n",
    "    temp1.append(names[int(k[1:]) -1])\n",
    "    temp2.append(xgb_fscore[k])\n",
    "\n",
    "xgb_importances = sorted(zip(temp2, temp1), reverse=True)\n",
    "\n",
    "xgb_importances[-10:], dt_importances[-10:], rf_importances[-10:]"
   ]
  },
  {
   "cell_type": "markdown",
   "metadata": {},
   "source": [
    "### Model fusion"
   ]
  },
  {
   "cell_type": "code",
   "execution_count": 17,
   "metadata": {},
   "outputs": [
    {
     "name": "stdout",
     "output_type": "stream",
     "text": [
      "Total 38 events accuracy: 84.2 %\n",
      "Total 9 abnormal accuracy: 33.3 %\n",
      "normal 29 events accuracy: 100.0 %\n",
      "hypopnea 6 events accuracy: 50.0 %\n",
      "apnea 3 events accuracy: 0.0 % \n",
      "\n"
     ]
    },
    {
     "name": "stderr",
     "output_type": "stream",
     "text": [
      "C:\\Users\\10426\\Anaconda3\\envs\\pytorch\\lib\\site-packages\\sklearn\\metrics\\classification.py:1143: UndefinedMetricWarning: Precision is ill-defined and being set to 0.0 in labels with no predicted samples.\n",
      "  'precision', 'predicted', average, warn_for)\n"
     ]
    },
    {
     "name": "stdout",
     "output_type": "stream",
     "text": [
      "Precision_score: 77.1 \n",
      "recall_score: 84.2 \n"
     ]
    },
    {
     "name": "stderr",
     "output_type": "stream",
     "text": [
      "C:\\Users\\10426\\Anaconda3\\envs\\pytorch\\lib\\site-packages\\sklearn\\metrics\\classification.py:1143: UndefinedMetricWarning: F-score is ill-defined and being set to 0.0 in labels with no predicted samples.\n",
      "  'precision', 'predicted', average, warn_for)\n"
     ]
    },
    {
     "name": "stdout",
     "output_type": "stream",
     "text": [
      "f1_score: 80.5 \n"
     ]
    }
   ],
   "source": [
    "from sklearn.linear_model import LogisticRegression\n",
    "from sklearn.naive_bayes import GaussianNB\n",
    "from sklearn.ensemble import RandomForestClassifier, VotingClassifier\n",
    "\n",
    "eclf = VotingClassifier(estimators=[('svm', svm_clf), ('rf', best_rf_model)])\n",
    "eclf = eclf.fit(train_X,train_Y)\n",
    "pre_Y = test(eclf, test_X, test_Y)"
   ]
  },
  {
   "cell_type": "code",
   "execution_count": 18,
   "metadata": {},
   "outputs": [
    {
     "data": {
      "image/png": "[encoded data removed]",
      "text/plain": [
       "<Figure size 600x400 with 1 Axes>"
      ]
     },
     "metadata": {},
     "output_type": "display_data"
    }
   ],
   "source": [
    "# confusion matrix \n",
    "# https://jakevdp.github.io/PythonDataScienceHandbook/05.07-support-vector-machines.html\n",
    "\n",
    "import matplotlib.pyplot as plt\n",
    "from scipy import stats\n",
    "\n",
    "# use seaborn plotting defaults\n",
    "import seaborn as sns; sns.set()\n",
    "\n",
    "from sklearn.metrics import confusion_matrix\n",
    "\n",
    "pre = eclf.predict(test_X)\n",
    "mat = confusion_matrix(test_Y, pre)\n",
    "sns.heatmap(mat.T, square=True, annot=True, fmt='d', cbar=False,\n",
    "            xticklabels=class_labels,\n",
    "            yticklabels=class_labels)\n",
    "# plt.figure()\n",
    "plt.xlabel('true label')\n",
    "plt.ylabel('predicted label');\n",
    "plt.rcParams['figure.dpi'] = 100 #分辨率\n",
    "plt.savefig(\"./cm_svm\")\n",
    "# plt.rcParams.update({'font.size': 40})\n",
    "# plt.show()"
   ]
  }
 ],
 "metadata": {
  "kernelspec": {
   "display_name": "Python [conda env:pytorch]",
   "language": "python",
   "name": "conda-env-pytorch-py"
  },
  "language_info": {
   "codemirror_mode": {
    "name": "ipython",
    "version": 3
   },
   "file_extension": ".py",
   "mimetype": "text/x-python",
   "name": "python",
   "nbconvert_exporter": "python",
   "pygments_lexer": "ipython3",
   "version": "3.6.8"
  }
 },
 "nbformat": 4,
 "nbformat_minor": 2
}
